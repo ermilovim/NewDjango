{
  "nbformat": 4,
  "nbformat_minor": 0,
  "metadata": {
    "colab": {
      "name": "lesson1ipynb",
      "provenance": [],
      "collapsed_sections": [],
      "toc_visible": true,
      "authorship_tag": "ABX9TyPsBr94t+r0n+2OwexTi20V",
      "include_colab_link": true
    },
    "kernelspec": {
      "name": "python3",
      "display_name": "Python 3"
    }
  },
  "cells": [
    {
      "cell_type": "markdown",
      "metadata": {
        "id": "view-in-github",
        "colab_type": "text"
      },
      "source": [
        "<a href=\"https://colab.research.google.com/github/ermilovim/NewDjango/blob/master/lesson1.ipynb\" target=\"_parent\"><img src=\"https://colab.research.google.com/assets/colab-badge.svg\" alt=\"Open In Colab\"/></a>"
      ]
    },
    {
      "cell_type": "markdown",
      "metadata": {
        "id": "cdGT0KYdsemh",
        "colab_type": "text"
      },
      "source": [
        ""
      ]
    },
    {
      "cell_type": "markdown",
      "metadata": {
        "colab_type": "text",
        "id": "3ac4ywdmCec7"
      },
      "source": [
        "# Занятие №1. Первые программы на Python\n",
        "\n",
        "![alt text](https://drive.google.com/uc?export=view&id=1M05oSpwlZyh1-F-6E6P_PSmmLHUG6F0-)\n",
        "\n",
        "Уважаемые слушатели, на первом уроке мы с вами познакомимся с синтаксисом, типами данных и основными конструкциями языка Python."
      ]
    },
    {
      "cell_type": "markdown",
      "metadata": {
        "id": "-UmxWIm7tCbM",
        "colab_type": "text"
      },
      "source": [
        "# Простейшие операции, типы данных, вывод на экран"
      ]
    },
    {
      "cell_type": "code",
      "metadata": {
        "id": "F6oelRCxtUzm",
        "colab_type": "code",
        "colab": {}
      },
      "source": [
        "# Сложим два числа\n",
        "2 + 2"
      ],
      "execution_count": null,
      "outputs": []
    },
    {
      "cell_type": "code",
      "metadata": {
        "id": "n07aXKWitYDL",
        "colab_type": "code",
        "colab": {}
      },
      "source": [
        "# Умножим два числа\n",
        "2 * 3"
      ],
      "execution_count": null,
      "outputs": []
    },
    {
      "cell_type": "code",
      "metadata": {
        "id": "Nc4Km9k3tapZ",
        "colab_type": "code",
        "colab": {}
      },
      "source": [
        "# Проверим операцию со скобками\n",
        "3*(2 + 7)"
      ],
      "execution_count": null,
      "outputs": []
    },
    {
      "cell_type": "code",
      "metadata": {
        "id": "O9ev6k04tdNN",
        "colab_type": "code",
        "colab": {}
      },
      "source": [
        "# Проверим еще и деление\n",
        "32*(4 + 8)/10"
      ],
      "execution_count": null,
      "outputs": []
    },
    {
      "cell_type": "code",
      "metadata": {
        "id": "FsYG3wnatoiv",
        "colab_type": "code",
        "colab": {}
      },
      "source": [
        "# А теперь поделим на 0!\n",
        "32/0"
      ],
      "execution_count": null,
      "outputs": []
    },
    {
      "cell_type": "code",
      "metadata": {
        "id": "B7rk1lo6t0UB",
        "colab_type": "code",
        "colab": {}
      },
      "source": [
        "# Возведем число в степень\n",
        "2**3"
      ],
      "execution_count": null,
      "outputs": []
    },
    {
      "cell_type": "code",
      "metadata": {
        "id": "nFrEd6iCt1pk",
        "colab_type": "code",
        "colab": {}
      },
      "source": [
        "# Команда для вывода на экран\n",
        "print(2 * 2)\n",
        "# Стоп! Раньше тоже происходил вывод на экран... \n",
        "# Результат последней строки каждого абзаца автоматически выводится на экран"
      ],
      "execution_count": null,
      "outputs": []
    },
    {
      "cell_type": "markdown",
      "metadata": {
        "id": "imE2fiJdub4f",
        "colab_type": "text"
      },
      "source": [
        "До сего момента мы работали только с числами. Для работы с текстом широко используется тип данных str (string)"
      ]
    },
    {
      "cell_type": "code",
      "metadata": {
        "id": "xnzGXvEtupdf",
        "colab_type": "code",
        "colab": {}
      },
      "source": [
        "text = 'I like Data Science!'"
      ],
      "execution_count": 3,
      "outputs": []
    },
    {
      "cell_type": "code",
      "metadata": {
        "id": "flNkRozUus2e",
        "colab_type": "code",
        "colab": {}
      },
      "source": [
        "text"
      ],
      "execution_count": null,
      "outputs": []
    },
    {
      "cell_type": "code",
      "metadata": {
        "id": "b66osb4futjG",
        "colab_type": "code",
        "colab": {}
      },
      "source": [
        "type(text)"
      ],
      "execution_count": null,
      "outputs": []
    },
    {
      "cell_type": "code",
      "metadata": {
        "id": "I6eFumi5uvnB",
        "colab_type": "code",
        "colab": {
          "base_uri": "https://localhost:8080/",
          "height": 51
        },
        "outputId": "10a640c4-e706-4111-afa4-d244d0659402"
      },
      "source": [
        "# Со строками тоже можно проводить \"арифметические\" операции!\n",
        "print(text * 3)\n",
        "print(text + \" Data Science like me too!\")"
      ],
      "execution_count": 4,
      "outputs": [
        {
          "output_type": "stream",
          "text": [
            "I like Data Science!I like Data Science!I like Data Science!\n",
            "I like Data Science! Data Science like me too!\n"
          ],
          "name": "stdout"
        }
      ]
    },
    {
      "cell_type": "code",
      "metadata": {
        "id": "x9OtD4QovVLu",
        "colab_type": "code",
        "colab": {
          "base_uri": "https://localhost:8080/",
          "height": 181
        },
        "outputId": "c9d9b52c-bd7d-42b1-f29f-f384b5d0b488"
      },
      "source": [
        "# Не все операции можно проводить со строками...\n",
        "text**2"
      ],
      "execution_count": 5,
      "outputs": [
        {
          "output_type": "error",
          "ename": "TypeError",
          "evalue": "ignored",
          "traceback": [
            "\u001b[0;31m---------------------------------------------------------------------------\u001b[0m",
            "\u001b[0;31mTypeError\u001b[0m                                 Traceback (most recent call last)",
            "\u001b[0;32m<ipython-input-5-1374f208b45f>\u001b[0m in \u001b[0;36m<module>\u001b[0;34m()\u001b[0m\n\u001b[1;32m      1\u001b[0m \u001b[0;31m# Не все операции можно проводить со строками...\u001b[0m\u001b[0;34m\u001b[0m\u001b[0;34m\u001b[0m\u001b[0;34m\u001b[0m\u001b[0m\n\u001b[0;32m----> 2\u001b[0;31m \u001b[0mtext\u001b[0m\u001b[0;34m**\u001b[0m\u001b[0;36m2\u001b[0m\u001b[0;34m\u001b[0m\u001b[0;34m\u001b[0m\u001b[0m\n\u001b[0m",
            "\u001b[0;31mTypeError\u001b[0m: unsupported operand type(s) for ** or pow(): 'str' and 'int'"
          ]
        }
      ]
    },
    {
      "cell_type": "code",
      "metadata": {
        "id": "HSu4LIhMvg1o",
        "colab_type": "code",
        "colab": {
          "base_uri": "https://localhost:8080/",
          "height": 164
        },
        "outputId": "0d798862-7397-4319-f43d-cbbf1e7cb4e7"
      },
      "source": [
        "text - \"foo\""
      ],
      "execution_count": 6,
      "outputs": [
        {
          "output_type": "error",
          "ename": "TypeError",
          "evalue": "ignored",
          "traceback": [
            "\u001b[0;31m---------------------------------------------------------------------------\u001b[0m",
            "\u001b[0;31mTypeError\u001b[0m                                 Traceback (most recent call last)",
            "\u001b[0;32m<ipython-input-6-7d4c86d0b9e7>\u001b[0m in \u001b[0;36m<module>\u001b[0;34m()\u001b[0m\n\u001b[0;32m----> 1\u001b[0;31m \u001b[0mtext\u001b[0m \u001b[0;34m-\u001b[0m \u001b[0;34m\"foo\"\u001b[0m\u001b[0;34m\u001b[0m\u001b[0;34m\u001b[0m\u001b[0m\n\u001b[0m",
            "\u001b[0;31mTypeError\u001b[0m: unsupported operand type(s) for -: 'str' and 'str'"
          ]
        }
      ]
    },
    {
      "cell_type": "code",
      "metadata": {
        "id": "6knDqA5tv1pF",
        "colab_type": "code",
        "colab": {}
      },
      "source": [
        "# Так тоже нельзя. Нужно следить за типом данных!\n",
        "\"5\" + 2"
      ],
      "execution_count": null,
      "outputs": []
    },
    {
      "cell_type": "code",
      "metadata": {
        "id": "KMQYgib9wEue",
        "colab_type": "code",
        "colab": {}
      },
      "source": [
        "# К символам допускается обращение как к элементам массива\n",
        "text[2]"
      ],
      "execution_count": null,
      "outputs": []
    },
    {
      "cell_type": "code",
      "metadata": {
        "id": "e9vkJftjwFVF",
        "colab_type": "code",
        "colab": {}
      },
      "source": [
        "# Обратная нумерация элементов - очень удобная вещь!\n",
        "text[-3]"
      ],
      "execution_count": null,
      "outputs": []
    },
    {
      "cell_type": "code",
      "metadata": {
        "id": "zoZ5Fx2DwQjX",
        "colab_type": "code",
        "colab": {
          "base_uri": "https://localhost:8080/",
          "height": 68
        },
        "outputId": "d67cda61-f7a2-4057-fcd9-c351fb064ef5"
      },
      "source": [
        "# Также, можно делать срезы строк\n",
        "print(text[3:])\n",
        "print(text[7:11])\n",
        "print(text[::3])"
      ],
      "execution_count": 11,
      "outputs": [
        {
          "output_type": "stream",
          "text": [
            "ike Data Science!\n",
            "Data\n",
            "Ii tSee\n"
          ],
          "name": "stdout"
        }
      ]
    },
    {
      "cell_type": "markdown",
      "metadata": {
        "id": "RcMrhrAQw9Cz",
        "colab_type": "text"
      },
      "source": [
        "**Цикл for** - наиболее часто используемая конструкция в Python."
      ]
    },
    {
      "cell_type": "markdown",
      "metadata": {
        "id": "sJs_W3rgtpzC",
        "colab_type": "text"
      },
      "source": [
        "# Работа со"
      ]
    }
  ]
}